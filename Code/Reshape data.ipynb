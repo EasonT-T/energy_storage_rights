{
 "cells": [
  {
   "cell_type": "code",
   "execution_count": null,
   "metadata": {},
   "outputs": [],
   "source": [
    "import gdal\n",
    "import numpy as np\n",
    "from PIL import Image\n",
    "import pandas as pd"
   ]
  },
  {
   "cell_type": "code",
   "execution_count": null,
   "metadata": {},
   "outputs": [],
   "source": [
    "\n",
    "print(\"Loading Australia wind data\")\n",
    "aus_wind = gdal.Open('Australia wind.tif')\n",
    "# aus_wind_np=np.array(aus_wind)\n",
    "global_solar=aus_wind\n",
    "# print(\"Loading Global Solar radiation data\")\n",
    "# global_solar = gdal.Open('GHI.tif')"
   ]
  },
  {
   "cell_type": "code",
   "execution_count": null,
   "metadata": {},
   "outputs": [],
   "source": [
    "print(global_solar.GetGeoTransform())\n",
    "ds=global_solar\n",
    "width = ds.RasterXSize\n",
    "height = ds.RasterYSize\n",
    "gt = ds.GetGeoTransform()\n",
    "minx = gt[0]\n",
    "miny = gt[3] + width*gt[4] + height*gt[5] \n",
    "maxx = gt[0] + width*gt[1] + height*gt[2]\n",
    "maxy = gt[3] \n",
    "print(width)\n",
    "print(height)\n",
    "print(minx,maxx)\n",
    "print(miny,maxy)"
   ]
  },
  {
   "cell_type": "code",
   "execution_count": null,
   "metadata": {},
   "outputs": [],
   "source": [
    "\n",
    "global_solar_np = np.array(global_solar.GetRasterBand(1).ReadAsArray())"
   ]
  },
  {
   "cell_type": "code",
   "execution_count": null,
   "metadata": {},
   "outputs": [],
   "source": [
    "global_solar_np[global_solar_np==-999.0]=0"
   ]
  },
  {
   "cell_type": "code",
   "execution_count": null,
   "metadata": {},
   "outputs": [],
   "source": [
    "column=global_solar_np.shape[0]\n",
    "row=global_solar_np.shape[1]\n",
    "print(column,row)"
   ]
  },
  {
   "cell_type": "code",
   "execution_count": null,
   "metadata": {},
   "outputs": [],
   "source": [
    "\n",
    "def reducenp(nparr,size_reduction):\n",
    "    out=list()\n",
    "    for x in range(int(nparr.shape[0]/size_reduction)):\n",
    "        out.append([])\n",
    "        for y in range(int(nparr.shape[1]/size_reduction)):\n",
    "            out[x].append(np.average(nparr[x*size_reduction:(x+1)*size_reduction,y*size_reduction:(y+1)*size_reduction]))\n",
    "    return out\n",
    "# size_reduction=2\n",
    "# reducenp(a,size_reduction)"
   ]
  },
  {
   "cell_type": "code",
   "execution_count": null,
   "metadata": {},
   "outputs": [],
   "source": [
    "\n",
    "size_reduction=3\n",
    "newnp=reducenp(global_solar_np,size_reduction)"
   ]
  },
  {
   "cell_type": "code",
   "execution_count": null,
   "metadata": {},
   "outputs": [],
   "source": [
    "print(len(global_solar_np))\n",
    "print(len(newnp))"
   ]
  },
  {
   "cell_type": "code",
   "execution_count": null,
   "metadata": {},
   "outputs": [],
   "source": [
    "number_of_resulting_file_row=100\n",
    "number_of_resulting_file_column=100\n",
    "\n",
    "for x in range(number_of_resulting_file_column):\n",
    "    for y in range(number_of_resulting_file_row):\n",
    "        pd_data = pd.DataFrame(global_solar_np[int(x*(column/number_of_resulting_file_column)):int((x+1)*(column/number_of_resulting_file_column)),int(y*(row/number_of_resulting_file_row)):int((y+1)*(row/number_of_resulting_file_row))])\n",
    "        pd_data.to_csv('data/AU Wind '+str(x)+'-'+str(y)+'.csv',header=False,index=False)"
   ]
  }
 ],
 "metadata": {
  "kernelspec": {
   "display_name": "Python 3",
   "language": "python",
   "name": "python3"
  },
  "language_info": {
   "codemirror_mode": {
    "name": "ipython",
    "version": 3
   },
   "file_extension": ".py",
   "mimetype": "text/x-python",
   "name": "python",
   "nbconvert_exporter": "python",
   "pygments_lexer": "ipython3",
   "version": "3.7.1"
  }
 },
 "nbformat": 4,
 "nbformat_minor": 2
}

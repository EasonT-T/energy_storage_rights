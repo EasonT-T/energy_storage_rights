{
 "cells": [
  {
   "cell_type": "code",
   "execution_count": null,
   "metadata": {},
   "outputs": [],
   "source": [
    "from __future__ import print_function\n",
    "import pickle\n",
    "import os.path\n",
    "from googleapiclient.discovery import build\n",
    "from google_auth_oauthlib.flow import InstalledAppFlow\n",
    "from google.auth.transport.requests import Request"
   ]
  },
  {
   "cell_type": "code",
   "execution_count": 39,
   "metadata": {},
   "outputs": [
    {
     "data": {
      "text/plain": [
       "[5, 10]"
      ]
     },
     "execution_count": 39,
     "metadata": {},
     "output_type": "execute_result"
    }
   ],
   "source": [
    "numberToBase(145,27)"
   ]
  },
  {
   "cell_type": "code",
   "execution_count": 80,
   "metadata": {},
   "outputs": [],
   "source": [
    "def numberToBase(n, b):\n",
    "    if n == 0:\n",
    "        return [0]\n",
    "    digits = []\n",
    "    while n:\n",
    "        if n<=b:\n",
    "            digits.append(int(n % (b+1)))\n",
    "            n //= (b+1)\n",
    "        else:\n",
    "            digits.append(int(n % b))\n",
    "            n //= b\n",
    "    return digits[::-1]"
   ]
  },
  {
   "cell_type": "code",
   "execution_count": 86,
   "metadata": {},
   "outputs": [],
   "source": [
    "def ConvertNumberIntoCell(x,y):\n",
    "    ldict={0:'',1: 'a', 2: 'b', 3: 'c', 4: 'd', 5: 'e', 6: 'f',\n",
    " 7: 'g', 8: 'h', 9: 'i', 10: 'j', 11: 'k', 12: 'l',\n",
    " 13: 'm', 14: 'n', 15: 'o', 16: 'p', 17: 'q', 18: 'r',\n",
    " 19: 's', 20: 't', 21: 'u', 22: 'v', 23: 'w', 24: 'x', 25: 'y', 26: 'z'}\n",
    "    sout=\"\"\n",
    "    for i in numberToBase(y,26):\n",
    "        print(i)\n",
    "        sout=sout+ldict[i]\n",
    "    return sout+str(x)"
   ]
  },
  {
   "cell_type": "code",
   "execution_count": null,
   "metadata": {},
   "outputs": [],
   "source": [
    "def ConvertLatlonToCellLocation(lat,lon,minLat,maxLat,minLon,maxLon,numberofrow,numberofcolumn):\n",
    "    x=int(numberofrow*lat/(maxLat-minLat))\n",
    "    y=int(numberofcolumn*lon/(maxLon-minLon))\n",
    "    return None"
   ]
  },
  {
   "cell_type": "code",
   "execution_count": 1,
   "metadata": {},
   "outputs": [
    {
     "ename": "SyntaxError",
     "evalue": "EOL while scanning string literal (<ipython-input-1-e71968bc1bc7>, line 15)",
     "output_type": "error",
     "traceback": [
      "\u001b[1;36m  File \u001b[1;32m\"<ipython-input-1-e71968bc1bc7>\"\u001b[1;36m, line \u001b[1;32m15\u001b[0m\n\u001b[1;33m    +\"-0]\u001b[0m\n\u001b[1;37m         ^\u001b[0m\n\u001b[1;31mSyntaxError\u001b[0m\u001b[1;31m:\u001b[0m EOL while scanning string literal\n"
     ]
    }
   ],
   "source": [
    "\n",
    "\n",
    "def RetriveWind(lat,lon,LookUpDict,minLat,maxLat,minLon,maxLon):\n",
    "#     Wind each is 233 or 234 *6237\n",
    "    SCOPES = ['https://www.googleapis.com/auth/spreadsheets.readonly']\n",
    "\n",
    "    # The ID and range of a sample spreadsheet.\n",
    "#     Dict {\"AU Wind 1-0\":'1SibpS2SvGV7G6U5I3IEWajAW_unr0S0TJUnQ1fKTqyc'}\n",
    "    \n",
    "    SAMPLE_SPREADSHEET_ID = LookUpDict[\"AU Wind \"+str(int(((lat-minLat)/(maxLat-minLat))//(1/10)))+\"-0\"]\n",
    "    SAMPLE_RANGE_NAME = 'Sheet1!'+ConvertLatlonToCellLocation(lat,lon,\n",
    "                                                              (maxLat-minLat)*int(((lat-minLat)/(maxLat-minLat))//(1/10))/10+minLat,\n",
    "                                                              (maxLat-minLat)*(int(((lat-minLat)/(maxLat-minLat))//(1/10))+1)/10+minLat,minLon,maxLon,\n",
    "                                                             233,6237)\n",
    "    creds = None\n",
    "    # The file token.pickle stores the user's access and refresh tokens, and is\n",
    "    # created automatically when the authorization flow completes for the first\n",
    "    # time.\n",
    "    if os.path.exists('token.pickle'):\n",
    "        with open('token.pickle', 'rb') as token:\n",
    "            creds = pickle.load(token)\n",
    "    # If there are no (valid) credentials available, let the user log in.\n",
    "    if not creds or not creds.valid:\n",
    "        if creds and creds.expired and creds.refresh_token:\n",
    "            creds.refresh(Request())\n",
    "        else:\n",
    "            flow = InstalledAppFlow.from_client_secrets_file(\n",
    "                'credentials.json', SCOPES)\n",
    "            creds = flow.run_local_server(port=0)\n",
    "        # Save the credentials for the next run\n",
    "        with open('token.pickle', 'wb') as token:\n",
    "            pickle.dump(creds, token)\n",
    "\n",
    "    service = build('sheets', 'v4', credentials=creds)\n",
    "\n",
    "    # Call the Sheets API\n",
    "    sheet = service.spreadsheets()\n",
    "    result = sheet.values().get(spreadsheetId=SAMPLE_SPREADSHEET_ID,\n",
    "                                range=SAMPLE_RANGE_NAME).execute()\n",
    "    values = result.get('values', [])\n",
    "\n",
    "    if not values:\n",
    "        print('No data found.')\n",
    "    else:\n",
    "        print('Name, Major:')\n",
    "        return values"
   ]
  },
  {
   "cell_type": "code",
   "execution_count": null,
   "metadata": {},
   "outputs": [],
   "source": [
    "\n",
    "\n",
    "def RetriveSolar(lat,lon,LookUpDict,minLat,maxLat,minLon,maxLon):\n",
    "#     Solar 230 *14400\n",
    "    SCOPES = ['https://www.googleapis.com/auth/spreadsheets.readonly']\n",
    "\n",
    "    # The ID and range of a sample spreadsheet.\n",
    "#     Dict {\"AU Wind 1-0\":'1SibpS2SvGV7G6U5I3IEWajAW_unr0S0TJUnQ1fKTqyc'}\n",
    "    \n",
    "    SAMPLE_SPREADSHEET_ID = LookUpDict[\"Solar \"+str(int(((lat-minLat)/(maxLat-minLat))//(1/10)))+\"-0\"]\n",
    "    SAMPLE_RANGE_NAME = 'Sheet1!'+ConvertLatlonToCellLocation(lat,lon,\n",
    "                                                              (maxLat-minLat)*int(((lat-minLat)/(maxLat-minLat))//(1/10))/10+minLat,\n",
    "                                                              (maxLat-minLat)*(int(((lat-minLat)/(maxLat-minLat))//(1/10))+1)/10+minLat,minLon,maxLon,\n",
    "                                                             233,6237)\n",
    "    creds = None\n",
    "    # The file token.pickle stores the user's access and refresh tokens, and is\n",
    "    # created automatically when the authorization flow completes for the first\n",
    "    # time.\n",
    "    if os.path.exists('token.pickle'):\n",
    "        with open('token.pickle', 'rb') as token:\n",
    "            creds = pickle.load(token)\n",
    "    # If there are no (valid) credentials available, let the user log in.\n",
    "    if not creds or not creds.valid:\n",
    "        if creds and creds.expired and creds.refresh_token:\n",
    "            creds.refresh(Request())\n",
    "        else:\n",
    "            flow = InstalledAppFlow.from_client_secrets_file(\n",
    "                'credentials.json', SCOPES)\n",
    "            creds = flow.run_local_server(port=0)\n",
    "        # Save the credentials for the next run\n",
    "        with open('token.pickle', 'wb') as token:\n",
    "            pickle.dump(creds, token)\n",
    "\n",
    "    service = build('sheets', 'v4', credentials=creds)\n",
    "\n",
    "    # Call the Sheets API\n",
    "    sheet = service.spreadsheets()\n",
    "    result = sheet.values().get(spreadsheetId=SAMPLE_SPREADSHEET_ID,\n",
    "                                range=SAMPLE_RANGE_NAME).execute()\n",
    "    values = result.get('values', [])\n",
    "\n",
    "    if not values:\n",
    "        print('No data found.')\n",
    "    else:\n",
    "        print('Name, Major:')\n",
    "        return values"
   ]
  },
  {
   "cell_type": "code",
   "execution_count": null,
   "metadata": {},
   "outputs": [],
   "source": []
  }
 ],
 "metadata": {
  "kernelspec": {
   "display_name": "Python 3",
   "language": "python",
   "name": "python3"
  },
  "language_info": {
   "codemirror_mode": {
    "name": "ipython",
    "version": 3
   },
   "file_extension": ".py",
   "mimetype": "text/x-python",
   "name": "python",
   "nbconvert_exporter": "python",
   "pygments_lexer": "ipython3",
   "version": "3.7.1"
  }
 },
 "nbformat": 4,
 "nbformat_minor": 2
}

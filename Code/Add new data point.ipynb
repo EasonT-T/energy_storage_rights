{
 "cells": [
  {
   "cell_type": "code",
   "execution_count": 4,
   "metadata": {},
   "outputs": [],
   "source": [
    "from numpy import genfromtxt\n",
    "import numpy\n",
    "import pandas as pd"
   ]
  },
  {
   "cell_type": "code",
   "execution_count": 9,
   "metadata": {},
   "outputs": [],
   "source": [
    "\n",
    "df=pd.read_csv('Energy Grid Data.csv', sep=',',header=None)\n",
    "my_data=df.values"
   ]
  },
  {
   "cell_type": "code",
   "execution_count": 10,
   "metadata": {},
   "outputs": [
    {
     "data": {
      "text/plain": [
       "808423"
      ]
     },
     "execution_count": 10,
     "metadata": {},
     "output_type": "execute_result"
    }
   ],
   "source": [
    "len(my_data)"
   ]
  },
  {
   "cell_type": "code",
   "execution_count": 11,
   "metadata": {},
   "outputs": [],
   "source": [
    "from math import sin, cos, sqrt, atan2, radians\n",
    "def distance(arr1,arr2):\n",
    "    \n",
    "\n",
    "    # approximate radius of earth in km\n",
    "    R = 6373.0\n",
    "\n",
    "    lat1 = radians(arr1[0])\n",
    "    lon1 = radians(arr1[1])\n",
    "    lat2 = radians(arr2[0])\n",
    "    lon2 = radians(arr2[1])\n",
    "\n",
    "    dlon = lon2 - lon1\n",
    "    dlat = lat2 - lat1\n",
    "\n",
    "    a = sin(dlat / 2)**2 + cos(lat1) * cos(lat2) * sin(dlon / 2)**2\n",
    "    c = 2 * atan2(sqrt(a), sqrt(1 - a))\n",
    "\n",
    "    return R * c\n"
   ]
  },
  {
   "cell_type": "code",
   "execution_count": 27,
   "metadata": {},
   "outputs": [],
   "source": [
    "extend=10\n",
    "newpoints=[]\n",
    "# for i in range(1):\n",
    "for i in range(len(my_data)-1):\n",
    "#     if i%100==0:\n",
    "#         print(i)\n",
    "    if my_data[i][3]==my_data[i+1][3]:\n",
    "        dist=(distance(my_data[i][1:3],my_data[i+1][1:3]))\n",
    "#         print(dist)\n",
    "        if dist>10:\n",
    "            number_of_new_points=int(dist//10)\n",
    "            for w in range(number_of_new_points):\n",
    "                newpoints.append([my_data[i][0],abs(my_data[i][1]-my_data[i+1][1])*w/number_of_new_points+min(my_data[i][1],my_data[i+1][1]),\n",
    "                                  abs(my_data[i][2]-my_data[i+1][2])*w/number_of_new_points+min(my_data[i][1],my_data[i+1][1]),my_data[i][3]])\n"
   ]
  },
  {
   "cell_type": "code",
   "execution_count": 28,
   "metadata": {},
   "outputs": [
    {
     "data": {
      "text/plain": [
       "11309"
      ]
     },
     "execution_count": 28,
     "metadata": {},
     "output_type": "execute_result"
    }
   ],
   "source": [
    "len(newpoints)"
   ]
  },
  {
   "cell_type": "code",
   "execution_count": 38,
   "metadata": {},
   "outputs": [],
   "source": [
    "pdd=pd.DataFrame(newpoints)"
   ]
  },
  {
   "cell_type": "code",
   "execution_count": 42,
   "metadata": {},
   "outputs": [],
   "source": [
    "pdd.to_csv(\"newpoints.csv\",index=False)"
   ]
  },
  {
   "cell_type": "code",
   "execution_count": null,
   "metadata": {},
   "outputs": [],
   "source": []
  }
 ],
 "metadata": {
  "kernelspec": {
   "display_name": "Python 3",
   "language": "python",
   "name": "python3"
  },
  "language_info": {
   "codemirror_mode": {
    "name": "ipython",
    "version": 3
   },
   "file_extension": ".py",
   "mimetype": "text/x-python",
   "name": "python",
   "nbconvert_exporter": "python",
   "pygments_lexer": "ipython3",
   "version": "3.7.1"
  }
 },
 "nbformat": 4,
 "nbformat_minor": 2
}

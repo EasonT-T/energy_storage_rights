{
 "cells": [
  {
   "cell_type": "code",
   "execution_count": 40,
   "metadata": {},
   "outputs": [],
   "source": [
    "import gdal\n",
    "import numpy as np\n",
    "from PIL import Image\n",
    "import pandas as pd"
   ]
  },
  {
   "cell_type": "code",
   "execution_count": 41,
   "metadata": {},
   "outputs": [],
   "source": [
    "Image.MAX_IMAGE_PIXELS = 500000000"
   ]
  },
  {
   "cell_type": "code",
   "execution_count": 42,
   "metadata": {},
   "outputs": [
    {
     "name": "stdout",
     "output_type": "stream",
     "text": [
      "Loading Global Solar radiation data\n"
     ]
    }
   ],
   "source": [
    "\n",
    "# print(\"Loading Australia wind data\")\n",
    "# aus_wind = gdal.Open('Australia wind.tif')\n",
    "# global_solar=aus_wind\n",
    "print(\"Loading Global Solar radiation data\")\n",
    "global_solar = gdal.Open('GHI.tif')"
   ]
  },
  {
   "cell_type": "code",
   "execution_count": 43,
   "metadata": {},
   "outputs": [
    {
     "name": "stdout",
     "output_type": "stream",
     "text": [
      "(-180.0, 0.008333333333333333, 0.0, 60.0, 0.0, -0.008333333333333333)\n"
     ]
    }
   ],
   "source": [
    "print(global_solar.GetGeoTransform())"
   ]
  },
  {
   "cell_type": "code",
   "execution_count": 44,
   "metadata": {},
   "outputs": [],
   "source": [
    "ds=global_solar\n",
    "width = ds.RasterXSize\n",
    "height = ds.RasterYSize\n",
    "gt = ds.GetGeoTransform()\n",
    "minx = gt[0]\n",
    "miny = gt[3] + width*gt[4] + height*gt[5] \n",
    "maxx = gt[0] + width*gt[1] + height*gt[2]\n",
    "maxy = gt[3] "
   ]
  },
  {
   "cell_type": "code",
   "execution_count": 45,
   "metadata": {},
   "outputs": [
    {
     "name": "stdout",
     "output_type": "stream",
     "text": [
      "43200\n",
      "13800\n",
      "-180.0 180.0\n",
      "-55.0 60.0\n"
     ]
    }
   ],
   "source": [
    "print(width)\n",
    "print(height)\n",
    "print(minx,maxx)\n",
    "print(miny,maxy)"
   ]
  },
  {
   "cell_type": "code",
   "execution_count": 46,
   "metadata": {},
   "outputs": [],
   "source": [
    "\n",
    "global_solar_np = np.array(global_solar.GetRasterBand(1).ReadAsArray())"
   ]
  },
  {
   "cell_type": "code",
   "execution_count": 47,
   "metadata": {},
   "outputs": [
    {
     "data": {
      "text/plain": [
       "nan"
      ]
     },
     "execution_count": 47,
     "metadata": {},
     "output_type": "execute_result"
    }
   ],
   "source": [
    "(global_solar_np[5000][5000])"
   ]
  },
  {
   "cell_type": "code",
   "execution_count": 48,
   "metadata": {},
   "outputs": [
    {
     "data": {
      "text/plain": [
       "nan"
      ]
     },
     "execution_count": 48,
     "metadata": {},
     "output_type": "execute_result"
    }
   ],
   "source": [
    "(global_solar_np[0][0])"
   ]
  },
  {
   "cell_type": "code",
   "execution_count": 49,
   "metadata": {},
   "outputs": [],
   "source": [
    "global_solar_np[global_solar_np==-999.0]=0\n",
    "global_solar_np[global_solar_np==np.nan]=0"
   ]
  },
  {
   "cell_type": "code",
   "execution_count": 50,
   "metadata": {},
   "outputs": [
    {
     "data": {
      "text/plain": [
       "596160000"
      ]
     },
     "execution_count": 50,
     "metadata": {},
     "output_type": "execute_result"
    }
   ],
   "source": [
    "global_solar_np.size"
   ]
  },
  {
   "cell_type": "code",
   "execution_count": 51,
   "metadata": {},
   "outputs": [],
   "source": [
    "column=global_solar_np.shape[0]\n",
    "row=global_solar_np.shape[1]\n"
   ]
  },
  {
   "cell_type": "code",
   "execution_count": 52,
   "metadata": {},
   "outputs": [
    {
     "data": {
      "text/plain": [
       "array([[nan]])"
      ]
     },
     "execution_count": 52,
     "metadata": {},
     "output_type": "execute_result"
    }
   ],
   "source": [
    "global_solar_np[0:1,0:1]"
   ]
  },
  {
   "cell_type": "code",
   "execution_count": 53,
   "metadata": {},
   "outputs": [
    {
     "name": "stdout",
     "output_type": "stream",
     "text": [
      "13800 43200\n"
     ]
    }
   ],
   "source": [
    "print(column,row)\n",
    "# Solar 13800 43200\n",
    "# Wind 14014 18711"
   ]
  },
  {
   "cell_type": "code",
   "execution_count": 54,
   "metadata": {},
   "outputs": [],
   "source": [
    "\n",
    "def reducenp(nparr,size_reduction):\n",
    "    out=list()\n",
    "    for x in range(int(nparr.shape[0]/size_reduction)):\n",
    "        out.append([])\n",
    "        for y in range(int(nparr.shape[1]/size_reduction)):\n",
    "            out[x].append(np.average(nparr[x*size_reduction:(x+1)*size_reduction,y*size_reduction:(y+1)*size_reduction]))\n",
    "    return out\n",
    "# size_reduction=2\n",
    "# reducenp(a,size_reduction)"
   ]
  },
  {
   "cell_type": "code",
   "execution_count": 55,
   "metadata": {},
   "outputs": [],
   "source": [
    "\n",
    "size_reduction=3\n",
    "newnp=reducenp(global_solar_np,size_reduction)"
   ]
  },
  {
   "cell_type": "code",
   "execution_count": 61,
   "metadata": {},
   "outputs": [],
   "source": [
    "column=len(newnp)\n",
    "row=len(newnp[0])\n"
   ]
  },
  {
   "cell_type": "code",
   "execution_count": 62,
   "metadata": {},
   "outputs": [
    {
     "name": "stdout",
     "output_type": "stream",
     "text": [
      "(4600, 14400)\n"
     ]
    }
   ],
   "source": [
    "print((column,row))"
   ]
  },
  {
   "cell_type": "code",
   "execution_count": 104,
   "metadata": {},
   "outputs": [
    {
     "data": {
      "text/plain": [
       "4.701936874247043"
      ]
     },
     "execution_count": 104,
     "metadata": {},
     "output_type": "execute_result"
    }
   ],
   "source": []
  },
  {
   "cell_type": "code",
   "execution_count": 105,
   "metadata": {},
   "outputs": [
    {
     "data": {
      "text/plain": [
       "4.70203734760311"
      ]
     },
     "execution_count": 105,
     "metadata": {},
     "output_type": "execute_result"
    }
   ],
   "source": []
  },
  {
   "cell_type": "code",
   "execution_count": 101,
   "metadata": {},
   "outputs": [
    {
     "data": {
      "text/plain": [
       "nan"
      ]
     },
     "execution_count": 101,
     "metadata": {},
     "output_type": "execute_result"
    }
   ],
   "source": [
    "# pd_data = pd.DataFrame(newnp[0:4600][14112:14400])\n",
    "len(newnp[4600])\n",
    "# pd_data.to_csv('data2/Solar '+str(x)+'-'+str(y)+'.csv',header=False,index=False)"
   ]
  },
  {
   "cell_type": "code",
   "execution_count": 106,
   "metadata": {},
   "outputs": [
    {
     "name": "stdout",
     "output_type": "stream",
     "text": [
      "(0, 230)\n",
      "(0, 14400)\n",
      "(230, 460)\n",
      "(0, 14400)\n",
      "(460, 690)\n",
      "(0, 14400)\n",
      "(690, 920)\n",
      "(0, 14400)\n",
      "(920, 1150)\n",
      "(0, 14400)\n",
      "(1150, 1380)\n",
      "(0, 14400)\n",
      "(1380, 1610)\n",
      "(0, 14400)\n",
      "(1610, 1840)\n",
      "(0, 14400)\n",
      "(1840, 2070)\n",
      "(0, 14400)\n",
      "(2070, 2300)\n",
      "(0, 14400)\n",
      "(2300, 2530)\n",
      "(0, 14400)\n",
      "(2530, 2760)\n",
      "(0, 14400)\n",
      "(2760, 2990)\n",
      "(0, 14400)\n",
      "(2990, 3220)\n",
      "(0, 14400)\n",
      "(3220, 3450)\n",
      "(0, 14400)\n",
      "(3450, 3680)\n",
      "(0, 14400)\n",
      "(3680, 3910)\n",
      "(0, 14400)\n",
      "(3910, 4140)\n",
      "(0, 14400)\n",
      "(4140, 4370)\n",
      "(0, 14400)\n",
      "(4370, 4600)\n",
      "(0, 14400)\n"
     ]
    }
   ],
   "source": [
    "# number_of_resulting_file_row=1\n",
    "# number_of_resulting_file_column=20\n",
    "# # Wind divid by row 横着切\n",
    "# for x in range(number_of_resulting_file_column):\n",
    "#     for y in range(number_of_resulting_file_row):\n",
    "#         pd_data = pd.DataFrame(newnp[int(x*(column/number_of_resulting_file_column)):int((x+1)*(column/number_of_resulting_file_column))][int(y*(row/number_of_resulting_file_row)):int((y+1)*(row/number_of_resulting_file_row))])\n",
    "#         pd_data.to_csv('data2/AU Wind '+str(x)+'-'+str(y)+'.csv',header=False,index=False)\n",
    "\n",
    "# Solar divide by column 横着切\n",
    "number_of_resulting_file_row=1\n",
    "number_of_resulting_file_column=20\n",
    "\n",
    "for x in range(number_of_resulting_file_column):\n",
    "    for y in range(number_of_resulting_file_row):\n",
    "        pd_data = pd.DataFrame(newnp[int(x*(column/number_of_resulting_file_column)):int((x+1)*(column/number_of_resulting_file_column))][int(y*(row/number_of_resulting_file_row)):int((y+1)*(row/number_of_resulting_file_row))])\n",
    "\n",
    "        print((int(x*(column/number_of_resulting_file_column)),int((x+1)*(column/number_of_resulting_file_column))))\n",
    "        print((int(y*(row/number_of_resulting_file_row)),int((y+1)*(row/number_of_resulting_file_row))))\n",
    "        pd_data.to_csv('data2/Solar '+str(x)+'-'+str(y)+'.csv',header=False,index=False)"
   ]
  },
  {
   "cell_type": "code",
   "execution_count": null,
   "metadata": {},
   "outputs": [],
   "source": []
  },
  {
   "cell_type": "code",
   "execution_count": null,
   "metadata": {},
   "outputs": [],
   "source": []
  }
 ],
 "metadata": {
  "kernelspec": {
   "display_name": "Python 3",
   "language": "python",
   "name": "python3"
  },
  "language_info": {
   "codemirror_mode": {
    "name": "ipython",
    "version": 3
   },
   "file_extension": ".py",
   "mimetype": "text/x-python",
   "name": "python",
   "nbconvert_exporter": "python",
   "pygments_lexer": "ipython3",
   "version": "3.7.1"
  }
 },
 "nbformat": 4,
 "nbformat_minor": 2
}

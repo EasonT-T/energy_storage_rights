{
 "cells": [
  {
   "cell_type": "markdown",
   "metadata": {},
   "source": [
    "### This is the testing notebook that test the sample data on our algorithm for wind and solar"
   ]
  },
  {
   "cell_type": "code",
   "execution_count": 3,
   "metadata": {},
   "outputs": [],
   "source": [
    "from os import walk\n",
    "import os\n",
    "mypath =os.getcwd()\n",
    "tp=\"wind\"\n",
    "mypath=mypath+\"/\"+tp\n",
    "f = []\n",
    "for (dirpath, dirnames, filenames) in walk(mypath):\n",
    "    f.extend(filenames)\n",
    "files=[]\n",
    "for t in f:\n",
    "    if t[-4:]=='.csv':\n",
    "        files.append(tp+\"/\"+t)"
   ]
  },
  {
   "cell_type": "code",
   "execution_count": null,
   "metadata": {},
   "outputs": [],
   "source": []
  },
  {
   "cell_type": "code",
   "execution_count": 4,
   "metadata": {},
   "outputs": [
    {
     "data": {
      "text/plain": [
       "['wind/POWER_SinglePoint_Interannual_201701_201712_35d28S_149d12E_eac58f70.csv']"
      ]
     },
     "execution_count": 4,
     "metadata": {},
     "output_type": "execute_result"
    }
   ],
   "source": [
    "files"
   ]
  },
  {
   "cell_type": "code",
   "execution_count": 5,
   "metadata": {},
   "outputs": [],
   "source": [
    "import csv\n",
    "output=[]\n",
    "\n",
    "x=[]\n",
    "for f in files:\n",
    "    q=[]\n",
    "    with open(f, newline='') as csvfile:\n",
    "        spamreader = csv.reader(csvfile, delimiter=' ', quotechar='|')\n",
    "        for row in spamreader:\n",
    "            q.append(row)\n",
    "    x.append(q)\n",
    "\n",
    "for y in x:\n",
    "    for row in range(len(y)):\n",
    "        r=y[row]\n",
    "        if r[0]==\"LAT\" or (r[0][:3]==\"LAT\"):\n",
    "            r=y[row+1]\n",
    "            output.append([])\n",
    "            output[len(output)-1].append(r[0].split(',')[0])\n",
    "            output[len(output)-1].append(r[0].split(',')[1])\n",
    "            \n",
    "            output[len(output)-1].append(r[len(r)-1])\n",
    "            if tp==\"wind\":\n",
    "                row=row+1\n",
    "                r=y[row+1]\n",
    "                output[len(output)-1].append(r[len(r)-1])\n",
    "                row=row+1\n",
    "                r=y[row+1]\n",
    "                output[len(output)-1].append(r[len(r)-1])\n",
    "                row=row+1\n",
    "                r=y[row+1]\n",
    "                output[len(output)-1].append(r[len(r)-1])\n",
    "            "
   ]
  },
  {
   "cell_type": "code",
   "execution_count": 6,
   "metadata": {},
   "outputs": [
    {
     "data": {
      "text/plain": [
       "[['-35.27949', '149.11941', '13.16', '93.06', '65.91', '4.69']]"
      ]
     },
     "execution_count": 6,
     "metadata": {},
     "output_type": "execute_result"
    }
   ],
   "source": [
    "output"
   ]
  },
  {
   "cell_type": "markdown",
   "metadata": {},
   "source": [
    " E = A * r * H * PR\n",
    " \n",
    "Where:\n",
    "\n",
    "E = Energy (kWh) \n",
    "\n",
    "A = Total solar panel Area (m2) \n",
    "\n",
    "r = solar panel yield or efficiency(%) \n",
    "\n",
    "H = Annual average solar radiation on tilted panels (shadings not included)\n",
    "\n",
    "PR = Performance ratio, coefficient for losses (range between 0.5 and 0.9, default value = 0.75)\n",
    "\n",
    "ALLSKY_SFC_SW_DWN SRB/FLASHFlux 1/2x1/2 All Sky Insolation Incident on a Horizontal Surface (kW-hr/m^2/day) "
   ]
  },
  {
   "cell_type": "code",
   "execution_count": 7,
   "metadata": {},
   "outputs": [],
   "source": [
    "def computeenergyforsolar(data,m2,r,PR=0.75):\n",
    "    out=[]\n",
    "    for d in data:\n",
    "        ALLSKY_SFC_SW_DWN=d[2]\n",
    "        out.append((d[0],d[1],float(ALLSKY_SFC_SW_DWN)*m2 * r*365*PR/100))\n",
    "    return out"
   ]
  },
  {
   "cell_type": "markdown",
   "metadata": {},
   "source": [
    "Power = Cp 1/2 ρ A V³\n",
    "\n",
    "Where:\n",
    "\n",
    "P = Power output, watts\n",
    "\n",
    "Cp = Maximum power coefficient, ranging from 0.25 to 0.45, dimension less (theoretical maximum = 0.59)\n",
    "\n",
    "ρ = Air density, kg/m³\n",
    "\n",
    "A = Rotor swept area, m² or\n",
    "\n",
    "π D² / 4 (D is the rotor diameter in m, π = 3.1416)\n",
    "\n",
    "V = Wind speed, mps[23]\n",
    "\n",
    "PS MERRA2 1/2x1/2 Surface Pressure (kPa) \n",
    "\n",
    "WS50M MERRA2 1/2x1/2 Wind Speed at 50 Meters (m/s) \n",
    "\n",
    "T2M MERRA2 1/2x1/2 Temperature at 2 Meters (C) \n",
    "\n",
    "RH2M MERRA2 1/2x1/2 Relative Humidity at 2 Meters (%) \n"
   ]
  },
  {
   "cell_type": "code",
   "execution_count": 8,
   "metadata": {},
   "outputs": [],
   "source": [
    "import math\n",
    "def computeenergyforwind(data,Cp=0.35,D=50):\n",
    "    out=[]\n",
    "    for d in data:\n",
    "        T2M=float(d[2])\n",
    "        PS=float(d[3])\n",
    "        RH2M=float(d[4])\n",
    "        WS50M=float(d[5])\n",
    "        p1=6.1078*10**(7.5*(T2M)/((T2M)+237.3))\n",
    "        pv=p1*RH2M\n",
    "        pd=PS*1000-pv\n",
    "        air_density=pd/(287.05*T2M)+pv/(461.495*T2M)\n",
    "        out.append((d[0],d[1],Cp*(0.5*air_density)*((D**2)*math.pi/4)*(float(WS50M)**3)))\n",
    "#         air_density=float(PS)*1000/((273.15+float(T2M))*((461.495-287.058)*RH2M+287.058))\n",
    "#         print(air_density)\n",
    "#         out.append((d[0],d[1],Cp*(0.5*air_density)*((D**2)*math.pi/4)*(float(WS50M)**3)))\n",
    "    return out"
   ]
  },
  {
   "cell_type": "code",
   "execution_count": 9,
   "metadata": {},
   "outputs": [
    {
     "data": {
      "text/plain": [
       "[['-35.27949', '149.11941', '13.16', '93.06', '65.91', '4.69']]"
      ]
     },
     "execution_count": 9,
     "metadata": {},
     "output_type": "execute_result"
    }
   ],
   "source": [
    "output"
   ]
  },
  {
   "cell_type": "code",
   "execution_count": 10,
   "metadata": {},
   "outputs": [
    {
     "name": "stdout",
     "output_type": "stream",
     "text": [
      "[('-35.27949', '149.11941', 869706.7889579106)]\n"
     ]
    }
   ],
   "source": [
    "if tp==\"solar\":\n",
    "    print(computeenergyforsolar(output,1,50))\n",
    "else:\n",
    "    print(computeenergyforwind(output,0.35,50))"
   ]
  },
  {
   "cell_type": "code",
   "execution_count": null,
   "metadata": {},
   "outputs": [],
   "source": [
    "\n"
   ]
  },
  {
   "cell_type": "code",
   "execution_count": null,
   "metadata": {},
   "outputs": [],
   "source": []
  }
 ],
 "metadata": {
  "kernelspec": {
   "display_name": "Python 3",
   "language": "python",
   "name": "python3"
  },
  "language_info": {
   "codemirror_mode": {
    "name": "ipython",
    "version": 3
   },
   "file_extension": ".py",
   "mimetype": "text/x-python",
   "name": "python",
   "nbconvert_exporter": "python",
   "pygments_lexer": "ipython3",
   "version": "3.7.1"
  }
 },
 "nbformat": 4,
 "nbformat_minor": 2
}

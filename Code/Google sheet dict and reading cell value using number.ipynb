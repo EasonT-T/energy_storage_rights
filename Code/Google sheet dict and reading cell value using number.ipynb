{
 "cells": [
  {
   "cell_type": "code",
   "execution_count": null,
   "metadata": {},
   "outputs": [],
   "source": [
    "from pprint import pprint\n",
    "\n",
    "from googleapiclient import discovery\n",
    "\n",
    "# TODO: Change placeholder below to generate authentication credentials. See\n",
    "# https://developers.google.com/sheets/quickstart/python#step_3_set_up_the_sample\n",
    "#\n",
    "# Authorize using one of the following scopes:\n",
    "#     'https://www.googleapis.com/auth/drive'\n",
    "#     'https://www.googleapis.com/auth/drive.file'\n",
    "#     'https://www.googleapis.com/auth/drive.readonly'\n",
    "#     'https://www.googleapis.com/auth/spreadsheets'\n",
    "#     'https://www.googleapis.com/auth/spreadsheets.readonly'\n",
    "credentials = None\n",
    "\n",
    "service = discovery.build('sheets', 'v4', credentials=credentials)\n",
    "\n",
    "# The ID of the spreadsheet to retrieve data from.\n",
    "spreadsheet_id = 'my-spreadsheet-id'  # TODO: Update placeholder value.\n",
    "\n",
    "# The A1 notation of the values to retrieve.\n",
    "range_ = 'A1'  # TODO: Update placeholder value.\n",
    "\n",
    "# How values should be represented in the output.\n",
    "# The default render option is ValueRenderOption.FORMATTED_VALUE.\n",
    "value_render_option = ''  # TODO: Update placeholder value.\n",
    "\n",
    "# How dates, times, and durations should be represented in the output.\n",
    "# This is ignored if value_render_option is\n",
    "# FORMATTED_VALUE.\n",
    "# The default dateTime render option is [DateTimeRenderOption.SERIAL_NUMBER].\n",
    "date_time_render_option = ''  # TODO: Update placeholder value.\n",
    "\n",
    "request = service.spreadsheets().values().get(spreadsheetId=spreadsheet_id, range=range_, valueRenderOption=value_render_option, dateTimeRenderOption=date_time_render_option)\n",
    "response = request.execute()\n",
    "\n",
    "# TODO: Change code below to process the `response` dict:\n",
    "pprint(response)"
   ]
  }
 ],
 "metadata": {
  "kernelspec": {
   "display_name": "Python 3",
   "language": "python",
   "name": "python3"
  },
  "language_info": {
   "codemirror_mode": {
    "name": "ipython",
    "version": 3
   },
   "file_extension": ".py",
   "mimetype": "text/x-python",
   "name": "python",
   "nbconvert_exporter": "python",
   "pygments_lexer": "ipython3",
   "version": "3.7.1"
  }
 },
 "nbformat": 4,
 "nbformat_minor": 2
}

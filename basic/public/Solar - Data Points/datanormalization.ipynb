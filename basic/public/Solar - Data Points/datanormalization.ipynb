{
 "cells": [
  {
   "cell_type": "code",
   "execution_count": 67,
   "metadata": {},
   "outputs": [],
   "source": [
    "from os import walk\n",
    "import os\n",
    "mypath =os.getcwd()\n",
    "f = []\n",
    "for (dirpath, dirnames, filenames) in walk(mypath):\n",
    "    f.extend(filenames)\n",
    "files=[]\n",
    "for t in f:\n",
    "    if t[-4:]=='.csv':\n",
    "        files.append(t)"
   ]
  },
  {
   "cell_type": "code",
   "execution_count": 68,
   "metadata": {},
   "outputs": [
    {
     "data": {
      "text/plain": [
       "['A.power.csv',\n",
       " 'B.power.csv',\n",
       " 'C.power.csv',\n",
       " 'D.power.csv',\n",
       " 'E.power.csv',\n",
       " 'F.power.csv',\n",
       " 'G.power.csv',\n",
       " 'H.power.csv',\n",
       " 'I.power.csv',\n",
       " 'J.power.csv',\n",
       " 'K.power.csv',\n",
       " 'L.power.csv',\n",
       " 'M.power.csv',\n",
       " 'N.power.csv',\n",
       " 'O.power.csv',\n",
       " 'P.power.csv']"
      ]
     },
     "execution_count": 68,
     "metadata": {},
     "output_type": "execute_result"
    }
   ],
   "source": [
    "files"
   ]
  },
  {
   "cell_type": "code",
   "execution_count": 69,
   "metadata": {},
   "outputs": [],
   "source": [
    "import csv\n",
    "output=[]\n",
    "\n",
    "x=[]\n",
    "for f in files:\n",
    "    q=[]\n",
    "    with open(f, newline='') as csvfile:\n",
    "        spamreader = csv.reader(csvfile, delimiter=' ', quotechar='|')\n",
    "        for row in spamreader:\n",
    "            q.append(row)\n",
    "    x.append(q)\n",
    "\n",
    "for y in x:\n",
    "    for row in range(len(y)):\n",
    "        r=y[row]\n",
    "        if r[0]==\"LAT\" or (r[0][:3]==\"LAT\"):\n",
    "            r=y[row+1]\n",
    "            output.append([r[0].split(',')[0],r[0].split(',')[1],r[len(r)-1]])\n",
    "            break"
   ]
  },
  {
   "cell_type": "code",
   "execution_count": 77,
   "metadata": {},
   "outputs": [
    {
     "data": {
      "text/plain": [
       "[['-35.25', '149.25', '4.72'],\n",
       " ['-35.25', '149.25', '4.72'],\n",
       " ['-35.25', '148.75', '4.82'],\n",
       " ['-35.25', '148.75', '4.82'],\n",
       " ['-35.25', '149.25', '4.72'],\n",
       " ['-35.25', '149.25', '4.72'],\n",
       " ['-35.25', '148.75', '4.82'],\n",
       " ['-35.25', '148.75', '4.82'],\n",
       " ['-35.25', '149.25', '4.72'],\n",
       " ['-35.25', '149.25', '4.72'],\n",
       " ['-35.25', '148.75', '4.82'],\n",
       " ['-35.25', '148.75', '4.82'],\n",
       " ['-35.25', '149.25', '4.72'],\n",
       " ['-35.25', '149.25', '4.72'],\n",
       " ['-35.25', '148.75', '4.82'],\n",
       " ['-35.25', '148.75', '4.82']]"
      ]
     },
     "execution_count": 77,
     "metadata": {},
     "output_type": "execute_result"
    }
   ],
   "source": [
    "output"
   ]
  },
  {
   "cell_type": "code",
   "execution_count": 82,
   "metadata": {},
   "outputs": [],
   "source": [
    "with open(\"output.csv\", 'w', newline='') as f:\n",
    "    writer = csv.writer(f)\n",
    "    for q in output:\n",
    "        writer.writerow(q)"
   ]
  },
  {
   "cell_type": "code",
   "execution_count": null,
   "metadata": {},
   "outputs": [],
   "source": []
  }
 ],
 "metadata": {
  "kernelspec": {
   "display_name": "Python 3",
   "language": "python",
   "name": "python3"
  },
  "language_info": {
   "codemirror_mode": {
    "name": "ipython",
    "version": 3
   },
   "file_extension": ".py",
   "mimetype": "text/x-python",
   "name": "python",
   "nbconvert_exporter": "python",
   "pygments_lexer": "ipython3",
   "version": "3.7.1"
  }
 },
 "nbformat": 4,
 "nbformat_minor": 2
}
